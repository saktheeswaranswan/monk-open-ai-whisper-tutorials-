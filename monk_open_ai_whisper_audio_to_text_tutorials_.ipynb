{
  "nbformat": 4,
  "nbformat_minor": 0,
  "metadata": {
    "colab": {
      "provenance": [],
      "authorship_tag": "ABX9TyPyPFPrmcrHTf58DURemy5F",
      "include_colab_link": true
    },
    "kernelspec": {
      "name": "python3",
      "display_name": "Python 3"
    },
    "language_info": {
      "name": "python"
    }
  },
  "cells": [
    {
      "cell_type": "markdown",
      "metadata": {
        "id": "view-in-github",
        "colab_type": "text"
      },
      "source": [
        "<a href=\"https://colab.research.google.com/github/saktheeswaranswan/monk-open-ai-whisper-tutorials-/blob/main/monk_open_ai_whisper_audio_to_text_tutorials_.ipynb\" target=\"_parent\"><img src=\"https://colab.research.google.com/assets/colab-badge.svg\" alt=\"Open In Colab\"/></a>"
      ]
    },
    {
      "cell_type": "code",
      "execution_count": 1,
      "metadata": {
        "colab": {
          "base_uri": "https://localhost:8080/"
        },
        "id": "jeCHg9ci-dkz",
        "outputId": "82519a6b-ec09-4164-ba3e-1e961bb82178"
      },
      "outputs": [
        {
          "output_type": "stream",
          "name": "stdout",
          "text": [
            "Cloning into 'whisper'...\n",
            "remote: Enumerating objects: 585, done.\u001b[K\n",
            "remote: Counting objects: 100% (291/291), done.\u001b[K\n",
            "remote: Compressing objects: 100% (57/57), done.\u001b[K\n",
            "remote: Total 585 (delta 263), reused 236 (delta 234), pack-reused 294\u001b[K\n",
            "Receiving objects: 100% (585/585), 8.24 MiB | 25.18 MiB/s, done.\n",
            "Resolving deltas: 100% (350/350), done.\n"
          ]
        }
      ],
      "source": [
        "!git clone https://github.com/openai/whisper.git"
      ]
    },
    {
      "cell_type": "code",
      "source": [
        "!pip install -U openai-whisper\n"
      ],
      "metadata": {
        "colab": {
          "base_uri": "https://localhost:8080/"
        },
        "id": "bKU7ihsf-oKU",
        "outputId": "fcede4d8-7753-4f0c-a5e4-7ac049ee446e"
      },
      "execution_count": 2,
      "outputs": [
        {
          "output_type": "stream",
          "name": "stdout",
          "text": [
            "Collecting openai-whisper\n",
            "  Downloading openai-whisper-20230314.tar.gz (792 kB)\n",
            "\u001b[?25l     \u001b[90m━━━━━━━━━━━━━━━━━━━━━━━━━━━━━━━━━━━━━━━━\u001b[0m \u001b[32m0.0/792.9 kB\u001b[0m \u001b[31m?\u001b[0m eta \u001b[36m-:--:--\u001b[0m\r\u001b[2K     \u001b[91m━━━━━━━━━━━━\u001b[0m\u001b[90m╺\u001b[0m\u001b[90m━━━━━━━━━━━━━━━━━━━━━━━━━━\u001b[0m \u001b[32m245.8/792.9 kB\u001b[0m \u001b[31m8.0 MB/s\u001b[0m eta \u001b[36m0:00:01\u001b[0m\r\u001b[2K     \u001b[90m━━━━━━━━━━━━━━━━━━━━━━━━━━━━━━━━━━━━━━\u001b[0m \u001b[32m792.9/792.9 kB\u001b[0m \u001b[31m12.9 MB/s\u001b[0m eta \u001b[36m0:00:00\u001b[0m\n",
            "\u001b[?25h  Installing build dependencies ... \u001b[?25l\u001b[?25hdone\n",
            "  Getting requirements to build wheel ... \u001b[?25l\u001b[?25hdone\n",
            "  Preparing metadata (pyproject.toml) ... \u001b[?25l\u001b[?25hdone\n",
            "Requirement already satisfied: triton==2.0.0 in /usr/local/lib/python3.10/dist-packages (from openai-whisper) (2.0.0)\n",
            "Requirement already satisfied: numba in /usr/local/lib/python3.10/dist-packages (from openai-whisper) (0.56.4)\n",
            "Requirement already satisfied: numpy in /usr/local/lib/python3.10/dist-packages (from openai-whisper) (1.22.4)\n",
            "Requirement already satisfied: torch in /usr/local/lib/python3.10/dist-packages (from openai-whisper) (2.0.1+cu118)\n",
            "Requirement already satisfied: tqdm in /usr/local/lib/python3.10/dist-packages (from openai-whisper) (4.65.0)\n",
            "Requirement already satisfied: more-itertools in /usr/local/lib/python3.10/dist-packages (from openai-whisper) (9.1.0)\n",
            "Collecting tiktoken==0.3.1 (from openai-whisper)\n",
            "  Downloading tiktoken-0.3.1-cp310-cp310-manylinux_2_17_x86_64.manylinux2014_x86_64.whl (1.7 MB)\n",
            "\u001b[2K     \u001b[90m━━━━━━━━━━━━━━━━━━━━━━━━━━━━━━━━━━━━━━━━\u001b[0m \u001b[32m1.7/1.7 MB\u001b[0m \u001b[31m60.8 MB/s\u001b[0m eta \u001b[36m0:00:00\u001b[0m\n",
            "\u001b[?25hCollecting ffmpeg-python==0.2.0 (from openai-whisper)\n",
            "  Downloading ffmpeg_python-0.2.0-py3-none-any.whl (25 kB)\n",
            "Requirement already satisfied: future in /usr/local/lib/python3.10/dist-packages (from ffmpeg-python==0.2.0->openai-whisper) (0.18.3)\n",
            "Requirement already satisfied: regex>=2022.1.18 in /usr/local/lib/python3.10/dist-packages (from tiktoken==0.3.1->openai-whisper) (2022.10.31)\n",
            "Requirement already satisfied: requests>=2.26.0 in /usr/local/lib/python3.10/dist-packages (from tiktoken==0.3.1->openai-whisper) (2.27.1)\n",
            "Requirement already satisfied: cmake in /usr/local/lib/python3.10/dist-packages (from triton==2.0.0->openai-whisper) (3.25.2)\n",
            "Requirement already satisfied: filelock in /usr/local/lib/python3.10/dist-packages (from triton==2.0.0->openai-whisper) (3.12.2)\n",
            "Requirement already satisfied: lit in /usr/local/lib/python3.10/dist-packages (from triton==2.0.0->openai-whisper) (16.0.6)\n",
            "Requirement already satisfied: llvmlite<0.40,>=0.39.0dev0 in /usr/local/lib/python3.10/dist-packages (from numba->openai-whisper) (0.39.1)\n",
            "Requirement already satisfied: setuptools in /usr/local/lib/python3.10/dist-packages (from numba->openai-whisper) (67.7.2)\n",
            "Requirement already satisfied: typing-extensions in /usr/local/lib/python3.10/dist-packages (from torch->openai-whisper) (4.7.1)\n",
            "Requirement already satisfied: sympy in /usr/local/lib/python3.10/dist-packages (from torch->openai-whisper) (1.11.1)\n",
            "Requirement already satisfied: networkx in /usr/local/lib/python3.10/dist-packages (from torch->openai-whisper) (3.1)\n",
            "Requirement already satisfied: jinja2 in /usr/local/lib/python3.10/dist-packages (from torch->openai-whisper) (3.1.2)\n",
            "Requirement already satisfied: urllib3<1.27,>=1.21.1 in /usr/local/lib/python3.10/dist-packages (from requests>=2.26.0->tiktoken==0.3.1->openai-whisper) (1.26.16)\n",
            "Requirement already satisfied: certifi>=2017.4.17 in /usr/local/lib/python3.10/dist-packages (from requests>=2.26.0->tiktoken==0.3.1->openai-whisper) (2023.5.7)\n",
            "Requirement already satisfied: charset-normalizer~=2.0.0 in /usr/local/lib/python3.10/dist-packages (from requests>=2.26.0->tiktoken==0.3.1->openai-whisper) (2.0.12)\n",
            "Requirement already satisfied: idna<4,>=2.5 in /usr/local/lib/python3.10/dist-packages (from requests>=2.26.0->tiktoken==0.3.1->openai-whisper) (3.4)\n",
            "Requirement already satisfied: MarkupSafe>=2.0 in /usr/local/lib/python3.10/dist-packages (from jinja2->torch->openai-whisper) (2.1.3)\n",
            "Requirement already satisfied: mpmath>=0.19 in /usr/local/lib/python3.10/dist-packages (from sympy->torch->openai-whisper) (1.3.0)\n",
            "Building wheels for collected packages: openai-whisper\n",
            "  Building wheel for openai-whisper (pyproject.toml) ... \u001b[?25l\u001b[?25hdone\n",
            "  Created wheel for openai-whisper: filename=openai_whisper-20230314-py3-none-any.whl size=796910 sha256=a0d382d4a57c4a0723e0d60829e832d1f2ec66ea5c3d551b49916a677d3e9d40\n",
            "  Stored in directory: /root/.cache/pip/wheels/b2/13/5f/fe8245f6dc59df505879da4b2129932e342f02a80e6b87f27d\n",
            "Successfully built openai-whisper\n",
            "Installing collected packages: ffmpeg-python, tiktoken, openai-whisper\n",
            "Successfully installed ffmpeg-python-0.2.0 openai-whisper-20230314 tiktoken-0.3.1\n"
          ]
        }
      ]
    },
    {
      "cell_type": "code",
      "source": [
        "!sudo apt update && sudo apt install ffmpeg\n"
      ],
      "metadata": {
        "colab": {
          "base_uri": "https://localhost:8080/"
        },
        "id": "9Zavek0n-tiF",
        "outputId": "856761db-e114-430a-c18e-e3472601ac18"
      },
      "execution_count": 3,
      "outputs": [
        {
          "output_type": "stream",
          "name": "stdout",
          "text": [
            "\u001b[33m\r0% [Working]\u001b[0m\r            \rGet:1 http://security.ubuntu.com/ubuntu focal-security InRelease [114 kB]\n",
            "\r            \rGet:2 https://cloud.r-project.org/bin/linux/ubuntu focal-cran40/ InRelease [3,622 B]\n",
            "Get:3 https://developer.download.nvidia.com/compute/cuda/repos/ubuntu2004/x86_64  InRelease [1,581 B]\n",
            "Hit:4 http://archive.ubuntu.com/ubuntu focal InRelease\n",
            "Hit:5 http://ppa.launchpad.net/c2d4u.team/c2d4u4.0+/ubuntu focal InRelease\n",
            "Get:6 https://developer.download.nvidia.com/compute/cuda/repos/ubuntu2004/x86_64  Packages [1,084 kB]\n",
            "Get:7 http://archive.ubuntu.com/ubuntu focal-updates InRelease [114 kB]\n",
            "Hit:8 http://ppa.launchpad.net/cran/libgit2/ubuntu focal InRelease\n",
            "Hit:9 http://ppa.launchpad.net/deadsnakes/ppa/ubuntu focal InRelease\n",
            "Get:10 http://archive.ubuntu.com/ubuntu focal-backports InRelease [108 kB]\n",
            "Hit:11 http://ppa.launchpad.net/graphics-drivers/ppa/ubuntu focal InRelease\n",
            "Get:12 http://archive.ubuntu.com/ubuntu focal-updates/universe amd64 Packages [1,372 kB]\n",
            "Hit:13 http://ppa.launchpad.net/ubuntugis/ppa/ubuntu focal InRelease\n",
            "Get:14 http://archive.ubuntu.com/ubuntu focal-updates/main amd64 Packages [3,347 kB]\n",
            "Fetched 6,145 kB in 2s (3,445 kB/s)\n",
            "Reading package lists... Done\n",
            "Building dependency tree       \n",
            "Reading state information... Done\n",
            "15 packages can be upgraded. Run 'apt list --upgradable' to see them.\n",
            "Reading package lists... Done\n",
            "Building dependency tree       \n",
            "Reading state information... Done\n",
            "ffmpeg is already the newest version (7:4.2.7-0ubuntu0.1).\n",
            "0 upgraded, 0 newly installed, 0 to remove and 15 not upgraded.\n"
          ]
        }
      ]
    },
    {
      "cell_type": "code",
      "source": [
        "import platform\n",
        "\n",
        "print(platform.system())\n"
      ],
      "metadata": {
        "colab": {
          "base_uri": "https://localhost:8080/"
        },
        "id": "pdiMmpsp--ks",
        "outputId": "135511dc-209b-45e4-e008-c09c06823a10"
      },
      "execution_count": 6,
      "outputs": [
        {
          "output_type": "stream",
          "name": "stdout",
          "text": [
            "Linux\n"
          ]
        }
      ]
    },
    {
      "cell_type": "code",
      "source": [
        "!pip install setuptools-rust\n"
      ],
      "metadata": {
        "colab": {
          "base_uri": "https://localhost:8080/"
        },
        "id": "FyrcHBzd_RE6",
        "outputId": "529a76c1-f348-446b-b848-bc42eab9109f"
      },
      "execution_count": 7,
      "outputs": [
        {
          "output_type": "stream",
          "name": "stdout",
          "text": [
            "Collecting setuptools-rust\n",
            "  Downloading setuptools_rust-1.6.0-py3-none-any.whl (23 kB)\n",
            "Requirement already satisfied: setuptools>=62.4 in /usr/local/lib/python3.10/dist-packages (from setuptools-rust) (67.7.2)\n",
            "Collecting semantic-version<3,>=2.8.2 (from setuptools-rust)\n",
            "  Downloading semantic_version-2.10.0-py2.py3-none-any.whl (15 kB)\n",
            "Requirement already satisfied: typing-extensions>=3.7.4.3 in /usr/local/lib/python3.10/dist-packages (from setuptools-rust) (4.7.1)\n",
            "Installing collected packages: semantic-version, setuptools-rust\n",
            "Successfully installed semantic-version-2.10.0 setuptools-rust-1.6.0\n"
          ]
        }
      ]
    },
    {
      "cell_type": "code",
      "source": [
        "!whisper open.mp3 --language English --task translate --target-language Chinese"
      ],
      "metadata": {
        "id": "elRJP7_HQ1oc"
      },
      "execution_count": null,
      "outputs": []
    },
    {
      "cell_type": "code",
      "source": [
        "\n",
        "The widely spoken languages in the world can vary depending on different criteria such as the number of native speakers, total speakers, or official language status. However, some of the most widely spoken languages globally are:\n",
        "\n",
        "Mandarin Chinese: It has the highest number of native speakers in the world, primarily spoken in China and other Chinese-speaking communities.\n",
        "\n",
        "Spanish: It is spoken by a large number of people across Spain, Latin America, and parts of the United States.\n",
        "\n",
        "English: It is one of the most widely spoken languages globally and serves as a lingua franca in many parts of the world, including the United States, United Kingdom, Canada, Australia, and numerous other countries.\n",
        "\n",
        "Hindi: It is the most widely spoken language in India and is also spoken in neighboring countries.\n",
        "\n",
        "Arabic: It is widely spoken across the Middle East and North Africa and is the liturgical language of Islam.\n",
        "\n",
        "Bengali: It is the official language of Bangladesh and is also spoken in parts of India and other diaspora communities.\n",
        "\n",
        "Portuguese: It is the official language of Portugal, Brazil, Mozambique, Angola, and other former Portuguese colonies.\n",
        "\n",
        "Russian: It is spoken by a significant population in Russia and several other countries that were part of the former Soviet Union.\n",
        "\n",
        "Japanese: It is the primary language spoken in Japan and has some speakers in other countries due to its global influence.\n",
        "\n",
        "German: It is the official language of Germany, Austria, Switzerland, and other central European countries.\n",
        "\n",
        "It's important to note that this list represents some of the widely spoken languages, but there are numerous other languages spoken around the world with significant populations of speakers."
      ],
      "metadata": {
        "id": "i1VpZlwERPl0"
      },
      "execution_count": null,
      "outputs": []
    },
    {
      "cell_type": "code",
      "source": [
        "Mandarin Chinese:\n",
        "!whisper open.mp3 --language English --task translate --target-language \"Mandarin Chinese\"\n",
        "\n",
        "Spanish:\n",
        "!whisper open.mp3 --language English --task translate --target-language Spanish\n",
        "\n",
        "Hindi:\n",
        "!whisper open.mp3 --language English --task translate --target-language Hindi\n",
        "\n",
        "Arabic:\n",
        "!whisper open.mp3 --language English --task translate --target-language Arabic\n",
        "\n",
        "Bengali:\n",
        "!whisper open.mp3 --language English --task translate --target-language Bengali\n",
        "\n",
        "Portuguese:\n",
        "!whisper open.mp3 --language English --task translate --target-language Portuguese\n",
        "\n",
        "Russian:\n",
        "!whisper open.mp3 --language English --task translate --target-language Russian\n",
        "\n",
        "Japanese:\n",
        "!whisper open.mp3 --language English --task translate --target-language Japanese\n",
        "\n",
        "German:\n",
        "!whisper open.mp3 --language English --task translate --target-language German"
      ],
      "metadata": {
        "id": "sDv1bRPWRVZ4"
      },
      "execution_count": null,
      "outputs": []
    },
    {
      "cell_type": "code",
      "source": [
        "Certainly! Here are the individual commands to translate the given text into each target language, including the Indian languages:\n",
        "\n",
        "Mandarin Chinese:\n",
        "!whisper open.mp3 --language English --task translate --target-language \"Mandarin Chinese\"\n",
        "\n",
        "Spanish:\n",
        "!whisper open.mp3 --language English --task translate --target-language Spanish\n",
        "\n",
        "Hindi:\n",
        "!whisper open.mp3 --language English --task translate --target-language Hindi\n",
        "\n",
        "Arabic:\n",
        "!whisper open.mp3 --language English --task translate --target-language Arabic\n",
        "\n",
        "Bengali:\n",
        "!whisper open.mp3 --language English --task translate --target-language Bengali\n",
        "\n",
        "Portuguese:\n",
        "!whisper open.mp3 --language English --task translate --target-language Portuguese\n",
        "\n",
        "Russian:\n",
        "!whisper open.mp3 --language English --task translate --target-language Russian\n",
        "\n",
        "Japanese:\n",
        "!whisper open.mp3 --language English --task translate --target-language Japanese\n",
        "\n",
        "German:\n",
        "!whisper open.mp3 --language English --task translate --target-language German\n",
        "\n",
        "Hindi (Indian language):\n",
        "!whisper open.mp3 --language English --task translate --target-language Hindi\n",
        "\n",
        "Bengali (Indian language):\n",
        "!whisper open.mp3 --language English --task translate --target-language Bengali\n",
        "\n",
        "Telugu (Indian language):\n",
        "!whisper open.mp3 --language English --task translate --target-language Telugu\n",
        "\n",
        "Marathi (Indian language):\n",
        "!whisper open.mp3 --language English --task translate --target-language Marathi\n",
        "\n",
        "Tamil (Indian language):\n",
        "!whisper open.mp3 --language English --task translate --target-language Tamil\n",
        "\n",
        "Urdu (Indian language):\n",
        "!whisper open.mp3 --language English --task translate --target-language Urdu\n",
        "\n",
        "Gujarati (Indian language):\n",
        "!whisper open.mp3 --language English --task translate --target-language Gujarati\n",
        "\n",
        "Kannada (Indian language):\n",
        "!whisper open.mp3 --language English --task translate --target-language Kannada\n",
        "\n",
        "Odia (Indian language):\n",
        "!whisper open.mp3 --language English --task translate --target-language Odia\n",
        "\n",
        "Malayalam (Indian language):\n",
        "!whisper open.mp3 --language English --task translate --target-language Malayalam\n",
        "\n",
        "You can execute each command separately to translate the English text in the audio file to the corresponding target language, including the Indian languages mentioned."
      ],
      "metadata": {
        "id": "aqnks1BzRtI-"
      },
      "execution_count": null,
      "outputs": []
    },
    {
      "cell_type": "code",
      "source": [
        "!whisper open.mp3 --language English --task translate\n"
      ],
      "metadata": {
        "colab": {
          "base_uri": "https://localhost:8080/"
        },
        "id": "NJb-CPZE_b1e",
        "outputId": "d71438ac-2b92-4d31-d0cf-338fe0a8b3d6"
      },
      "execution_count": null,
      "outputs": [
        {
          "output_type": "stream",
          "name": "stdout",
          "text": [
            "/usr/local/lib/python3.10/dist-packages/whisper/transcribe.py:114: UserWarning: FP16 is not supported on CPU; using FP32 instead\n",
            "  warnings.warn(\"FP16 is not supported on CPU; using FP32 instead\")\n",
            "[00:00.000 --> 00:08.480]  And hello friends, so today what we are going to see is what are the free softwares that\n",
            "[00:08.480 --> 00:14.400]  have been available for this, okay?\n",
            "[00:14.400 --> 00:26.720]  So let me show you and I have to tell you something that this free software is normally\n",
            "[00:26.720 --> 00:33.840]  for every math oriented thing, so I will show you a wonderful software.\n",
            "[00:33.840 --> 00:44.160]  So you have this, okay, you take this software and it is 3D explore math, I will give you\n",
            "[00:44.160 --> 00:48.640]  all the links below, okay?\n",
            "[00:48.640 --> 00:54.720]  So in this software, as you can see there are plane curves like ellipse and all those\n",
            "[00:54.800 --> 00:59.120]  things you can plot and even you can plot curvature method.\n",
            "[00:59.120 --> 01:05.920]  In 2D curvature, there is no problem because kappa of t, there is only one parameter,\n",
            "[01:05.920 --> 01:10.000]  but when you go for 3D curvature, helix and other things have the same.\n",
            "[01:10.000 --> 01:14.880]  For example, to take the space curves, you take the curvature and torsion,\n",
            "[01:15.840 --> 01:21.040]  you have two parameters to define a curve, just for line two points are needed for a\n",
            "[01:21.040 --> 01:24.400]  lines for a curve or a surface, you need curvature.\n",
            "[01:25.040 --> 01:31.520]  I will show you some of the things like space curves and surfaces with curvature k1, okay?\n",
            "[01:32.960 --> 01:35.440]  So these are the curvatures with k1.\n",
            "[01:35.440 --> 01:40.880]  This is a wonderful software, even you have a wonderful thing in this, okay?\n",
            "[01:43.360 --> 01:46.240]  Let me show you something, parametric surfaces.\n",
            "[01:46.480 --> 01:57.920]  And in this, you can also view this anil graph, stereo vision, okay?\n",
            "[01:57.920 --> 02:07.600]  This is 3D, you put a 3D glass, you can see this 3D and you have many things over here.\n",
            "[02:09.040 --> 02:14.320]  You go to the settings and in this, there are many things like surfaces, you have minimal surfaces,\n",
            "[02:15.200 --> 02:15.680]  okay?\n",
            "[02:15.680 --> 02:18.480]  Minimal surfaces are nothing but this.\n",
            "[02:19.840 --> 02:22.640]  In fluid mechanics, you have surface tension, no?\n",
            "[02:22.640 --> 02:27.920]  You create bubbles because this is a minimal surface, it is optimal in nature, okay?\n",
            "[02:28.880 --> 02:32.160]  And you have many minimal surfaces, you can just tweak it.\n",
            "[02:34.160 --> 02:37.360]  And other triangle, the catinoids, okay?\n",
            "[02:38.320 --> 02:39.440]  You have all the things.\n",
            "[02:40.080 --> 02:48.240]  And also in this, conformal maps are there in the software.\n",
            "[02:49.680 --> 02:52.080]  As you can see, the conformal map is plotting.\n",
            "[02:52.640 --> 02:57.040]  And in this, what you can do is, you can view a 3D Riemann sphere.\n",
            "[02:57.040 --> 03:01.760]  As you can see here, this is a Riemann sphere in here, okay?\n"
          ]
        }
      ]
    }
  ]
}